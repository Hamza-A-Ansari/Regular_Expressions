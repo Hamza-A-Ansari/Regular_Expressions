{
 "cells": [
  {
   "cell_type": "markdown",
   "id": "0a31569e",
   "metadata": {},
   "source": [
    "# Introduction to Regular Expression\n",
    "\n",
    "* String containig a combination of normal characters and special metacharacters that describes pattern to find text or positions within a text.\n",
    "* Normal characters match themselves ( st ).\n",
    "* Metacharacters represent types of characters (\\d , \\s , \\w) or ideas ( {3,10} ).\n",
    "* Pattern is a sequence of characters that maps to words or punctuation."
   ]
  },
  {
   "cell_type": "markdown",
   "id": "b56f772a",
   "metadata": {},
   "source": [
    "### Import re module"
   ]
  },
  {
   "cell_type": "code",
   "execution_count": 1,
   "id": "d0116432",
   "metadata": {},
   "outputs": [],
   "source": [
    "import re "
   ]
  },
  {
   "cell_type": "markdown",
   "id": "8727ed31",
   "metadata": {},
   "source": [
    "### 1. findall() Method\n",
    "\n",
    "* Find all matches of a pattern\n",
    "* Syntax = re.findall(r\"regex\".string)"
   ]
  },
  {
   "cell_type": "code",
   "execution_count": 2,
   "id": "18845e3b",
   "metadata": {},
   "outputs": [
    {
     "data": {
      "text/plain": [
       "['#movies', '#movies']"
      ]
     },
     "execution_count": 2,
     "metadata": {},
     "output_type": "execute_result"
    }
   ],
   "source": [
    "re.findall(r\"#movies\",\"Love #movies! I had fun yesterday going to the #movies\")"
   ]
  },
  {
   "cell_type": "markdown",
   "id": "3c35ce66",
   "metadata": {},
   "source": [
    "### 2. split() Method\n",
    "\n",
    "* Split string at each match\n",
    "* Syntax = re.split(r\"regex\", string)"
   ]
  },
  {
   "cell_type": "code",
   "execution_count": 3,
   "id": "9233ab61",
   "metadata": {},
   "outputs": [
    {
     "data": {
      "text/plain": [
       "['Nice place to eat', \" I'll come back\", ' Excellent meat', '']"
      ]
     },
     "execution_count": 3,
     "metadata": {},
     "output_type": "execute_result"
    }
   ],
   "source": [
    "re.split(r\"!\",\"Nice place to eat! I'll come back! Excellent meat!\")"
   ]
  },
  {
   "cell_type": "markdown",
   "id": "716adeac",
   "metadata": {},
   "source": [
    "### sub() Method\n",
    "\n",
    "* Replace one or many matches with a string\n",
    "* Syntax = re.sub(r\"old\",\"new\",string)"
   ]
  },
  {
   "cell_type": "code",
   "execution_count": 4,
   "id": "8180897e",
   "metadata": {},
   "outputs": [
    {
     "data": {
      "text/plain": [
       "'I have a nice car and a nice house in a nice neighborhood'"
      ]
     },
     "execution_count": 4,
     "metadata": {},
     "output_type": "execute_result"
    }
   ],
   "source": [
    "re.sub(r\"yellow\",\"nice\",\"I have a yellow car and a yellow house in a yellow neighborhood\")"
   ]
  },
  {
   "cell_type": "markdown",
   "id": "8d842179",
   "metadata": {},
   "source": [
    "### Supported Metacharacters"
   ]
  },
  {
   "cell_type": "code",
   "execution_count": 5,
   "id": "c4f61d73",
   "metadata": {},
   "outputs": [
    {
     "data": {
      "text/plain": [
       "['User9', 'User8']"
      ]
     },
     "execution_count": 5,
     "metadata": {},
     "output_type": "execute_result"
    }
   ],
   "source": [
    "re.findall(r\"User\\d\",\"The winners are: User9, UserN, User8\")"
   ]
  },
  {
   "cell_type": "code",
   "execution_count": 6,
   "id": "dc984fbd",
   "metadata": {},
   "outputs": [
    {
     "data": {
      "text/plain": [
       "['UserN']"
      ]
     },
     "execution_count": 6,
     "metadata": {},
     "output_type": "execute_result"
    }
   ],
   "source": [
    "re.findall(r\"User\\D\",\"The winners are: User9, UserN, User8\")"
   ]
  },
  {
   "cell_type": "code",
   "execution_count": 7,
   "id": "99c400a2",
   "metadata": {},
   "outputs": [
    {
     "data": {
      "text/plain": [
       "['User9', 'UserN', 'User8']"
      ]
     },
     "execution_count": 7,
     "metadata": {},
     "output_type": "execute_result"
    }
   ],
   "source": [
    "re.findall(r\"User\\w\",\"The winners are: User9, UserN, User8\")"
   ]
  },
  {
   "cell_type": "code",
   "execution_count": 8,
   "id": "9ca050c6",
   "metadata": {},
   "outputs": [
    {
     "data": {
      "text/plain": [
       "['$5']"
      ]
     },
     "execution_count": 8,
     "metadata": {},
     "output_type": "execute_result"
    }
   ],
   "source": [
    "re.findall(r\"\\W\\d\",\"This skirt is on sale, only $5 today!\")"
   ]
  },
  {
   "cell_type": "code",
   "execution_count": 9,
   "id": "3efa1f26",
   "metadata": {},
   "outputs": [
    {
     "data": {
      "text/plain": [
       "['Data Science']"
      ]
     },
     "execution_count": 9,
     "metadata": {},
     "output_type": "execute_result"
    }
   ],
   "source": [
    "re.findall(r\"Data\\sScience\",\"I enjoy learning Data Science\")"
   ]
  },
  {
   "cell_type": "code",
   "execution_count": 10,
   "id": "0e796baf",
   "metadata": {},
   "outputs": [
    {
     "data": {
      "text/plain": [
       "'I really like ice cream'"
      ]
     },
     "execution_count": 10,
     "metadata": {},
     "output_type": "execute_result"
    }
   ],
   "source": [
    "re.sub(r\"ice\\Scream\",\"ice cream\",\"I really like ice-cream\")"
   ]
  },
  {
   "cell_type": "markdown",
   "id": "9395e88a",
   "metadata": {},
   "source": [
    "### Quantifiers\n",
    "\n",
    "* A metacharacter that tells the regex engine how many times to match a character immediately to its left"
   ]
  },
  {
   "cell_type": "markdown",
   "id": "62742193",
   "metadata": {},
   "source": [
    "#### 1. Onece or more: +"
   ]
  },
  {
   "cell_type": "code",
   "execution_count": 11,
   "id": "0e3f2c3e",
   "metadata": {},
   "outputs": [
    {
     "data": {
      "text/plain": [
       "['4-3', '10-04']"
      ]
     },
     "execution_count": 11,
     "metadata": {},
     "output_type": "execute_result"
    }
   ],
   "source": [
    "text = \"Date of start: 4-3. Date of registration: 10-04\"\n",
    "re.findall(r\"\\d+-\\d+\", text)"
   ]
  },
  {
   "cell_type": "markdown",
   "id": "55771670",
   "metadata": {},
   "source": [
    "#### 2. Zero time or more: *"
   ]
  },
  {
   "cell_type": "code",
   "execution_count": 12,
   "id": "6e929b5f",
   "metadata": {},
   "outputs": [
    {
     "data": {
      "text/plain": [
       "['@ameli!a', '@joh&&n', '@mary90']"
      ]
     },
     "execution_count": 12,
     "metadata": {},
     "output_type": "execute_result"
    }
   ],
   "source": [
    "my_string = \"The concert was amazing! @ameli!a @joh&&n @mary90\"\n",
    "re.findall(r\"@\\w+\\W*\\w+\", my_string)"
   ]
  },
  {
   "cell_type": "markdown",
   "id": "16f60c6a",
   "metadata": {},
   "source": [
    "#### 3. Zero times or once: ?"
   ]
  },
  {
   "cell_type": "code",
   "execution_count": 13,
   "id": "bda8f99b",
   "metadata": {},
   "outputs": [
    {
     "data": {
      "text/plain": [
       "['color', 'colour']"
      ]
     },
     "execution_count": 13,
     "metadata": {},
     "output_type": "execute_result"
    }
   ],
   "source": [
    "text = \"The color of this image is amazing. However, the colour blue could be brighter\"\n",
    "re.findall(r\"colou?r\", text)"
   ]
  },
  {
   "cell_type": "markdown",
   "id": "e54b5d28",
   "metadata": {},
   "source": [
    "#### 4. n times at least, m times at most: {n,m}"
   ]
  },
  {
   "cell_type": "code",
   "execution_count": 14,
   "id": "9b402663",
   "metadata": {},
   "outputs": [
    {
     "data": {
      "text/plain": [
       "['1-966-847-3131', '54-908-42-42424']"
      ]
     },
     "execution_count": 14,
     "metadata": {},
     "output_type": "execute_result"
    }
   ],
   "source": [
    "phone_number = \"John: 1-966-847-3131 Michelle: 54-908-42-42424\"\n",
    "re.findall(r\"\\d{1,2}-\\d{3}-\\d{2,3}-\\d{4,}\",phone_number)"
   ]
  },
  {
   "cell_type": "markdown",
   "id": "138ba48f",
   "metadata": {},
   "source": [
    "### Looking for Patterns\n",
    "\n",
    "* Two different operations to find a match"
   ]
  },
  {
   "cell_type": "markdown",
   "id": "ec4f63fd",
   "metadata": {},
   "source": [
    "#### 1. search() Method\n",
    "\n",
    "* Syntax = re.search(r\"regex\",string)"
   ]
  },
  {
   "cell_type": "code",
   "execution_count": 15,
   "id": "2d2d2336",
   "metadata": {},
   "outputs": [
    {
     "data": {
      "text/plain": [
       "<re.Match object; span=(0, 4), match='4506'>"
      ]
     },
     "execution_count": 15,
     "metadata": {},
     "output_type": "execute_result"
    }
   ],
   "source": [
    "re.search(r\"\\d{4}\",\"4506 people attend the show\")"
   ]
  },
  {
   "cell_type": "code",
   "execution_count": 16,
   "id": "5f223065",
   "metadata": {},
   "outputs": [
    {
     "data": {
      "text/plain": [
       "<re.Match object; span=(16, 17), match='3'>"
      ]
     },
     "execution_count": 16,
     "metadata": {},
     "output_type": "execute_result"
    }
   ],
   "source": [
    "re.search(r\"\\d+\",\"Yesterday I saw 3 shows\")"
   ]
  },
  {
   "cell_type": "markdown",
   "id": "70e57e5a",
   "metadata": {},
   "source": [
    "#### 2. match() Method\n",
    "\n",
    "* Syntax = re.match(r\"regex\",string)"
   ]
  },
  {
   "cell_type": "code",
   "execution_count": 17,
   "id": "9b497bb7",
   "metadata": {},
   "outputs": [
    {
     "data": {
      "text/plain": [
       "<re.Match object; span=(0, 4), match='4506'>"
      ]
     },
     "execution_count": 17,
     "metadata": {},
     "output_type": "execute_result"
    }
   ],
   "source": [
    "re.match(r\"\\d{4}\", \"4506 people attend the show\")"
   ]
  },
  {
   "cell_type": "code",
   "execution_count": 18,
   "id": "a6f3a597",
   "metadata": {},
   "outputs": [
    {
     "name": "stdout",
     "output_type": "stream",
     "text": [
      "None\n"
     ]
    }
   ],
   "source": [
    "print(re.match(r\"\\d+\",\"Yesterday I saw 3 shows\"))"
   ]
  },
  {
   "cell_type": "markdown",
   "id": "0c7ecd3d",
   "metadata": {},
   "source": [
    "### Special Characters"
   ]
  },
  {
   "cell_type": "markdown",
   "id": "e7923188",
   "metadata": {},
   "source": [
    "#### 1. Match any character (except newline): ."
   ]
  },
  {
   "cell_type": "code",
   "execution_count": 19,
   "id": "f7320b1b",
   "metadata": {},
   "outputs": [
    {
     "data": {
      "text/plain": [
       "['www.amazingpics.com']"
      ]
     },
     "execution_count": 19,
     "metadata": {},
     "output_type": "execute_result"
    }
   ],
   "source": [
    "my_links = \"Just check out this link: www.amazingpics.com. It has amazing photos!\"\n",
    "re.findall(r\"www.+com\", my_links)"
   ]
  },
  {
   "cell_type": "markdown",
   "id": "4671c13b",
   "metadata": {},
   "source": [
    "#### 2. Start of the string: ^"
   ]
  },
  {
   "cell_type": "code",
   "execution_count": 20,
   "id": "1c4ce6d8",
   "metadata": {},
   "outputs": [
    {
     "data": {
      "text/plain": [
       "['the 80s']"
      ]
     },
     "execution_count": 20,
     "metadata": {},
     "output_type": "execute_result"
    }
   ],
   "source": [
    "my_string = \"the 80s music was much better that the 90s\"\n",
    "re.findall(r\"^the\\s\\d+s\",my_string)"
   ]
  },
  {
   "cell_type": "markdown",
   "id": "af888124",
   "metadata": {},
   "source": [
    "#### 3. End of the string: $"
   ]
  },
  {
   "cell_type": "code",
   "execution_count": 21,
   "id": "3784de27",
   "metadata": {},
   "outputs": [
    {
     "data": {
      "text/plain": [
       "['the 90s']"
      ]
     },
     "execution_count": 21,
     "metadata": {},
     "output_type": "execute_result"
    }
   ],
   "source": [
    "my_string = \"the 80s music hits were much better that the 90s\"\n",
    "re.findall(r\"the\\s\\d+s$\", my_string)"
   ]
  },
  {
   "cell_type": "markdown",
   "id": "051b4a6d",
   "metadata": {},
   "source": [
    "#### 4. Escape special characters: \\"
   ]
  },
  {
   "cell_type": "code",
   "execution_count": 22,
   "id": "c0e9107a",
   "metadata": {},
   "outputs": [
    {
     "data": {
      "text/plain": [
       "['I love the music of Mr.Go', 'However, the sound was too loud.']"
      ]
     },
     "execution_count": 22,
     "metadata": {},
     "output_type": "execute_result"
    }
   ],
   "source": [
    "my_string = \"I love the music of Mr.Go. However, the sound was too loud.\"\n",
    "re.split(r\"\\.\\s\", my_string)"
   ]
  },
  {
   "cell_type": "markdown",
   "id": "d128ea98",
   "metadata": {},
   "source": [
    "#### 5. OR Operator (Set of characters): [ ]"
   ]
  },
  {
   "cell_type": "code",
   "execution_count": 23,
   "id": "291a5d9d",
   "metadata": {},
   "outputs": [
    {
     "data": {
      "text/plain": [
       "['MaryJohn2', 'Clary3']"
      ]
     },
     "execution_count": 23,
     "metadata": {},
     "output_type": "execute_result"
    }
   ],
   "source": [
    "my_string = \"Yesterday I spent my afternoonwith my friends: MaryJohn2 Clary3\"\n",
    "re.findall(r\"[A-z]+\\d\", my_string)"
   ]
  },
  {
   "cell_type": "markdown",
   "id": "96b7deff",
   "metadata": {},
   "source": [
    "#### 6. Transforms the expression to negative: [^]"
   ]
  },
  {
   "cell_type": "code",
   "execution_count": 24,
   "id": "bbec8644",
   "metadata": {},
   "outputs": [
    {
     "data": {
      "text/plain": [
       "['www.hola.com']"
      ]
     },
     "execution_count": 24,
     "metadata": {},
     "output_type": "execute_result"
    }
   ],
   "source": [
    "my_links = \"Bad website: www.99.com. Favorite site: www.hola.com\"\n",
    "re.findall(r\"www[^0-9]+com\", my_links)"
   ]
  },
  {
   "cell_type": "markdown",
   "id": "90076949",
   "metadata": {},
   "source": [
    "### Greedy vs Nongreedy matching\n",
    "\n",
    "   * Two types of matching methods:\n",
    "        * Greedy\n",
    "        * Non-greedy or lazy\n",
    "   * Standard quantifiers are greedy by default: * , + , ? , {num,num}"
   ]
  },
  {
   "cell_type": "markdown",
   "id": "faf07502",
   "metadata": {},
   "source": [
    "#### 1. Greedy matching\n",
    "\n",
    "   * Greedy: match as many characters as possible\n",
    "   * Return the longest match"
   ]
  },
  {
   "cell_type": "code",
   "execution_count": 25,
   "id": "6d3b0506",
   "metadata": {},
   "outputs": [
    {
     "data": {
      "text/plain": [
       "<re.Match object; span=(0, 5), match='12345'>"
      ]
     },
     "execution_count": 25,
     "metadata": {},
     "output_type": "execute_result"
    }
   ],
   "source": [
    "re.match(r\"\\d+\",\"12345bcada\")"
   ]
  },
  {
   "cell_type": "markdown",
   "id": "1c7d90cd",
   "metadata": {},
   "source": [
    "* Backwards when too many characters matched\n",
    "* Gives up characters one at a time"
   ]
  },
  {
   "cell_type": "code",
   "execution_count": 26,
   "id": "c8584302",
   "metadata": {},
   "outputs": [
    {
     "data": {
      "text/plain": [
       "<re.Match object; span=(0, 6), match='xhello'>"
      ]
     },
     "execution_count": 26,
     "metadata": {},
     "output_type": "execute_result"
    }
   ],
   "source": [
    "re.match(r\".*hello\",\"xhelloxxxxxx\")"
   ]
  },
  {
   "cell_type": "markdown",
   "id": "6ef685c6",
   "metadata": {},
   "source": [
    "#### 2. Non-greedy matching\n",
    "\n",
    "* Lazy: match as few characters as needed\n",
    "* Returns the shortest match\n",
    "* Append ? to greedy quantifiers"
   ]
  },
  {
   "cell_type": "code",
   "execution_count": 27,
   "id": "99b7aa58",
   "metadata": {},
   "outputs": [
    {
     "data": {
      "text/plain": [
       "<re.Match object; span=(0, 1), match='1'>"
      ]
     },
     "execution_count": 27,
     "metadata": {},
     "output_type": "execute_result"
    }
   ],
   "source": [
    "re.match(r\"\\d+?\",\"12345bcada\")"
   ]
  },
  {
   "cell_type": "markdown",
   "id": "a0efed71",
   "metadata": {},
   "source": [
    "* Backtracks when two few characters matched\n",
    "* Expands characters one at a time"
   ]
  },
  {
   "cell_type": "code",
   "execution_count": 28,
   "id": "1a25858d",
   "metadata": {},
   "outputs": [
    {
     "data": {
      "text/plain": [
       "<re.Match object; span=(0, 6), match='xhello'>"
      ]
     },
     "execution_count": 28,
     "metadata": {},
     "output_type": "execute_result"
    }
   ],
   "source": [
    "re.match(r\".*?hello\",\"xhelloxxxxx\")"
   ]
  },
  {
   "cell_type": "markdown",
   "id": "bb0cabfc",
   "metadata": {},
   "source": [
    "# Advanced Regular Expression Concepts"
   ]
  },
  {
   "cell_type": "markdown",
   "id": "085ab4e3",
   "metadata": {},
   "source": [
    "### Group characters\n",
    "\n",
    "* Use parentheses to group and capture characters together\n"
   ]
  },
  {
   "cell_type": "code",
   "execution_count": 30,
   "id": "6cd20ce7",
   "metadata": {},
   "outputs": [
    {
     "data": {
      "text/plain": [
       "['Clary has 2 friends', 'Susan has 3 brothers', 'John has 4 sisters']"
      ]
     },
     "execution_count": 30,
     "metadata": {},
     "output_type": "execute_result"
    }
   ],
   "source": [
    "text = 'Clary has 2 friends who she spends alot time with. Susan has 3 brothers while John has 4 sisters.'\n",
    "re.findall(r'[A-Za-z]+\\s\\w+\\s\\d+\\s\\w+', text)"
   ]
  },
  {
   "cell_type": "markdown",
   "id": "359ba4c7",
   "metadata": {},
   "source": [
    "### Capturing groups\n",
    "\n",
    "* Use parentheses to group and capture characters together"
   ]
  },
  {
   "cell_type": "code",
   "execution_count": 31,
   "id": "06d578bf",
   "metadata": {},
   "outputs": [
    {
     "data": {
      "text/plain": [
       "['Clary', 'Susan', 'John']"
      ]
     },
     "execution_count": 31,
     "metadata": {},
     "output_type": "execute_result"
    }
   ],
   "source": [
    "re.findall(r'([A-Za-z]+)\\s\\w+\\s\\d+\\s\\w+', text)"
   ]
  },
  {
   "cell_type": "code",
   "execution_count": 32,
   "id": "15c27c46",
   "metadata": {},
   "outputs": [
    {
     "data": {
      "text/plain": [
       "[('Clary', '2', 'friends'),\n",
       " ('Susan', '3', 'brothers'),\n",
       " ('John', '4', 'sisters')]"
      ]
     },
     "execution_count": 32,
     "metadata": {},
     "output_type": "execute_result"
    }
   ],
   "source": [
    "re.findall(r'([A-Za-z]+)\\s\\w+\\s(\\d+)\\s(\\w+)', text)"
   ]
  },
  {
   "cell_type": "markdown",
   "id": "039a6781",
   "metadata": {},
   "source": [
    "* Match a specific subpattern in a pattern\n",
    "* Use it for further processing\n",
    "* Organize the data"
   ]
  },
  {
   "cell_type": "code",
   "execution_count": 34,
   "id": "6255378f",
   "metadata": {},
   "outputs": [
    {
     "data": {
      "text/plain": [
       "'Clary'"
      ]
     },
     "execution_count": 34,
     "metadata": {},
     "output_type": "execute_result"
    }
   ],
   "source": [
    "pets = re.findall(r'([A-Za-z]+)\\s\\w+\\s(\\d+)\\s(\\w+)',\"Clary has 2 dogs but John has 3 cats\")\n",
    "pets[0][0]"
   ]
  },
  {
   "cell_type": "markdown",
   "id": "3148e79d",
   "metadata": {},
   "source": [
    "* Apply a quantifier to the entire group"
   ]
  },
  {
   "cell_type": "code",
   "execution_count": 35,
   "id": "0ad61be4",
   "metadata": {},
   "outputs": [
    {
     "data": {
      "text/plain": [
       "<re.Match object; span=(16, 22), match='3e4r5f'>"
      ]
     },
     "execution_count": 35,
     "metadata": {},
     "output_type": "execute_result"
    }
   ],
   "source": [
    "re.search(r\"(\\d[A-Za-z])+\",\"My user name is 3e4r5fg\")"
   ]
  },
  {
   "cell_type": "markdown",
   "id": "3e7db275",
   "metadata": {},
   "source": [
    "* Capture a repeated group (\\d+) vs. repeat a capturing group (\\d)+"
   ]
  },
  {
   "cell_type": "code",
   "execution_count": 36,
   "id": "bff826d9",
   "metadata": {},
   "outputs": [
    {
     "data": {
      "text/plain": [
       "['5', '3']"
      ]
     },
     "execution_count": 36,
     "metadata": {},
     "output_type": "execute_result"
    }
   ],
   "source": [
    "my_string = \"My lucky numbers are 8755 and 33\"\n",
    "re.findall(r\"(\\d)+\", my_string)"
   ]
  },
  {
   "cell_type": "code",
   "execution_count": 37,
   "id": "8d4f750b",
   "metadata": {},
   "outputs": [
    {
     "data": {
      "text/plain": [
       "['8755', '33']"
      ]
     },
     "execution_count": 37,
     "metadata": {},
     "output_type": "execute_result"
    }
   ],
   "source": [
    "re.findall(r\"(\\d+)\", my_string)"
   ]
  },
  {
   "cell_type": "markdown",
   "id": "044398d8",
   "metadata": {},
   "source": [
    "## Non-capturing group\n",
    "\n",
    "* Vertical bar or pipe: |"
   ]
  },
  {
   "cell_type": "code",
   "execution_count": 39,
   "id": "869ab932",
   "metadata": {},
   "outputs": [
    {
     "data": {
      "text/plain": [
       "['2 cat', 'dog', 'bird']"
      ]
     },
     "execution_count": 39,
     "metadata": {},
     "output_type": "execute_result"
    }
   ],
   "source": [
    "my_string = \"I want to have a pet. But I don't know if I want 2 cats, 1 dog or a bird.\"\n",
    "re.findall(r\"\\d+\\scat|dog|bird\", my_string)"
   ]
  },
  {
   "cell_type": "markdown",
   "id": "7733f626",
   "metadata": {},
   "source": [
    "* Alternation: Use groups to choose between optional patterns"
   ]
  },
  {
   "cell_type": "code",
   "execution_count": 40,
   "id": "6b9fbf30",
   "metadata": {},
   "outputs": [
    {
     "data": {
      "text/plain": [
       "['cat', 'dog']"
      ]
     },
     "execution_count": 40,
     "metadata": {},
     "output_type": "execute_result"
    }
   ],
   "source": [
    "my_string = \"I want to have a pet. But I don't know if I want 2 cats, 1 dog or a bird.\"\n",
    "re.findall(r\"\\d+\\s(cat|dog|bird)\", my_string)"
   ]
  },
  {
   "cell_type": "code",
   "execution_count": 41,
   "id": "e8df3b59",
   "metadata": {},
   "outputs": [
    {
     "data": {
      "text/plain": [
       "[('2', 'cat'), ('1', 'dog')]"
      ]
     },
     "execution_count": 41,
     "metadata": {},
     "output_type": "execute_result"
    }
   ],
   "source": [
    "my_string = \"I want to have a pet. But I don't know if I want 2 cats, 1 dog or a bird.\"\n",
    "re.findall(r\"(\\d)+\\s(cat|dog|bird)\", my_string)"
   ]
  },
  {
   "cell_type": "markdown",
   "id": "c7ff974b",
   "metadata": {},
   "source": [
    "* Match but not capture a group"
   ]
  },
  {
   "cell_type": "code",
   "execution_count": 42,
   "id": "85d29bab",
   "metadata": {},
   "outputs": [
    {
     "data": {
      "text/plain": [
       "['042-980', '434-425']"
      ]
     },
     "execution_count": 42,
     "metadata": {},
     "output_type": "execute_result"
    }
   ],
   "source": [
    "my_string = \"John Smith: 34-34-34-042-980, Rebeca Smith: 10-10-10-434-425\"\n",
    "re.findall(r\"(?:\\d{2}-){3}(\\d{3}-\\d{3})\", my_string)"
   ]
  },
  {
   "cell_type": "markdown",
   "id": "10d534c1",
   "metadata": {},
   "source": [
    "* Use non-capturing groups for alternation"
   ]
  },
  {
   "cell_type": "code",
   "execution_count": 43,
   "id": "2e108d71",
   "metadata": {},
   "outputs": [
    {
     "data": {
      "text/plain": [
       "['23', '24']"
      ]
     },
     "execution_count": 43,
     "metadata": {},
     "output_type": "execute_result"
    }
   ],
   "source": [
    "my_date = \"Today is 23rd May 2019. Tomorrow is 24th May 19.\"\n",
    "re.findall(r\"(\\d+)(?:th|rd)\", my_date)"
   ]
  },
  {
   "cell_type": "markdown",
   "id": "d52b8229",
   "metadata": {},
   "source": [
    "## Backreferences"
   ]
  },
  {
   "cell_type": "raw",
   "id": "a112aea5",
   "metadata": {},
   "source": [
    "### Numbered groups"
   ]
  },
  {
   "cell_type": "code",
   "execution_count": 44,
   "id": "4ad351c0",
   "metadata": {},
   "outputs": [],
   "source": [
    "text = \"Python 3.0 was released on 12-03-2008. It was a major revision of the language. Many of its\\\n",
    "major features work backported to Python 2.6.x and 2.7.x version series.\""
   ]
  },
  {
   "cell_type": "code",
   "execution_count": 45,
   "id": "e8e50ac0",
   "metadata": {},
   "outputs": [],
   "source": [
    "text = \"Python 3.0 was released on 12-03-2008.\"\n",
    "information = re.search('(\\d{1,2})-(\\d{2})-(\\d{4})', text)"
   ]
  },
  {
   "cell_type": "code",
   "execution_count": 46,
   "id": "8a6a1fbe",
   "metadata": {},
   "outputs": [
    {
     "name": "stdout",
     "output_type": "stream",
     "text": [
      "12-03-2008\n",
      "12\n",
      "03\n",
      "2008\n"
     ]
    }
   ],
   "source": [
    "print(information.group(0)) \n",
    "print(information.group(1)) \n",
    "print(information.group(2)) \n",
    "print(information.group(3))"
   ]
  },
  {
   "cell_type": "markdown",
   "id": "be8654d6",
   "metadata": {},
   "source": [
    "* Give a name to groups"
   ]
  },
  {
   "cell_type": "code",
   "execution_count": 48,
   "id": "293d6e54",
   "metadata": {},
   "outputs": [
    {
     "name": "stdout",
     "output_type": "stream",
     "text": [
      "Austin\n",
      "78701\n"
     ]
    }
   ],
   "source": [
    "text = \"Austin, 78701\"\n",
    "cities = re.search(r\"(?P<city>[A-Za-z]+).*?(?P<zipcode>\\d{5})\", text)\n",
    "print(cities.group(\"city\"))\n",
    "print(cities.group(\"zipcode\"))"
   ]
  },
  {
   "cell_type": "markdown",
   "id": "c858a4dd",
   "metadata": {},
   "source": [
    "* Using numbered capturing groups to reference back"
   ]
  },
  {
   "cell_type": "code",
   "execution_count": 50,
   "id": "0860b90a",
   "metadata": {},
   "outputs": [
    {
     "data": {
      "text/plain": [
       "['happy']"
      ]
     },
     "execution_count": 50,
     "metadata": {},
     "output_type": "execute_result"
    }
   ],
   "source": [
    "sentence = \"I wish you a happy happy birthday!\"\n",
    "re.findall(r\"(\\w+)\\s\\1\", sentence)\n"
   ]
  },
  {
   "cell_type": "code",
   "execution_count": 51,
   "id": "3fb6a7ec",
   "metadata": {},
   "outputs": [
    {
     "data": {
      "text/plain": [
       "'I wish you a happy birthday!'"
      ]
     },
     "execution_count": 51,
     "metadata": {},
     "output_type": "execute_result"
    }
   ],
   "source": [
    "sentence = \"I wish you a happy happy birthday!\"\n",
    "re.sub(r\"(\\w+)\\s\\1\", r\"\\1\", sentence)"
   ]
  },
  {
   "cell_type": "markdown",
   "id": "f099e98c",
   "metadata": {},
   "source": [
    "* Using named capturing groups to reference back"
   ]
  },
  {
   "cell_type": "code",
   "execution_count": 52,
   "id": "cdf70739",
   "metadata": {},
   "outputs": [
    {
     "data": {
      "text/plain": [
       "['23434']"
      ]
     },
     "execution_count": 52,
     "metadata": {},
     "output_type": "execute_result"
    }
   ],
   "source": [
    "sentence = \"Your new code number is 23434. Please, enter 23434 to open the door.\"\n",
    "re.findall(r\"(?P<code>\\d{5}).*?(?P=code)\", sentence)"
   ]
  },
  {
   "cell_type": "code",
   "execution_count": 53,
   "id": "2a0e9e50",
   "metadata": {},
   "outputs": [
    {
     "data": {
      "text/plain": [
       "\"This app is not working! It's repeating the last word.\""
      ]
     },
     "execution_count": 53,
     "metadata": {},
     "output_type": "execute_result"
    }
   ],
   "source": [
    "sentence = \"This app is not working! It's repeating the last word word.\"\n",
    "re.sub(r\"(?P<word>\\w+)\\s(?P=word)\", r\"\\g<word>\", sentence)"
   ]
  },
  {
   "cell_type": "markdown",
   "id": "3d259354",
   "metadata": {},
   "source": [
    "## Lookaround\n",
    "\n",
    "* It allow us to confirm that sub-pattern is a head or behind main pattern"
   ]
  },
  {
   "cell_type": "markdown",
   "id": "493d62b5",
   "metadata": {},
   "source": [
    "## Look-ahead\n",
    "\n",
    "* Non-capturing group\n",
    "* Checks that the first part of the expression is followed or not by the lookahead expression\n",
    "* Return only the first part of the expression"
   ]
  },
  {
   "cell_type": "markdown",
   "id": "4016ad04",
   "metadata": {},
   "source": [
    "#### Positive look-ahead\n",
    "\n",
    "* Non-capturing group\n",
    "* Checks that the rst part of the expression is followed by the lookahead expression\n",
    "* Return only the rst part of the expression"
   ]
  },
  {
   "cell_type": "code",
   "execution_count": 55,
   "id": "dd1d6783",
   "metadata": {},
   "outputs": [
    {
     "data": {
      "text/plain": [
       "['tweets.txt', 'mypass.txt']"
      ]
     },
     "execution_count": 55,
     "metadata": {},
     "output_type": "execute_result"
    }
   ],
   "source": [
    "my_text = \"tweets.txt transferred, mypass.txt transferred, keywords.txt error\"\n",
    "re.findall(r\"\\w+\\.txt(?=\\stransferred)\", my_text)"
   ]
  },
  {
   "cell_type": "markdown",
   "id": "92730cca",
   "metadata": {},
   "source": [
    "#### Negative look-ahead\n",
    "\n",
    "* Non-capturing group\n",
    "* Checks that the rst part of the expression is not followed by the lookahead expression\n",
    "* Return only the rst part of the expression"
   ]
  },
  {
   "cell_type": "code",
   "execution_count": 56,
   "id": "8a5b88e2",
   "metadata": {},
   "outputs": [
    {
     "data": {
      "text/plain": [
       "['keywords.txt']"
      ]
     },
     "execution_count": 56,
     "metadata": {},
     "output_type": "execute_result"
    }
   ],
   "source": [
    "my_text = \"tweets.txt transferred, mypass.txt transferred, keywords.txt error\"\n",
    "re.findall(r\"\\w+\\.txt(?!\\stransferred)\", my_text)"
   ]
  },
  {
   "cell_type": "markdown",
   "id": "5f18dd7c",
   "metadata": {},
   "source": [
    "## Look-behind\n",
    "\n",
    "* Non-capturing group\n",
    "* Get all the matches that are preceded or not by a specic paern.\n",
    "* Return paern aer look-behind expression"
   ]
  },
  {
   "cell_type": "markdown",
   "id": "5fb9c525",
   "metadata": {},
   "source": [
    "#### Positive look-behind\n",
    "\n",
    "* Non-capturing group\n",
    "* Get all the matches that are preceded by a specic paern.\n",
    "* Return paern aer look-behind expression"
   ]
  },
  {
   "cell_type": "code",
   "execution_count": 58,
   "id": "0d9a1362",
   "metadata": {},
   "outputs": [
    {
     "data": {
      "text/plain": [
       "['Angus Young', 'Chris Slade']"
      ]
     },
     "execution_count": 58,
     "metadata": {},
     "output_type": "execute_result"
    }
   ],
   "source": [
    "my_text = \"Member: Angus Young, Member: Chris Slade, Past: Malcolm Young, Past: Cliff Williams.\"\n",
    "re.findall(r\"(?<=Member:\\s)\\w+\\s\\w+\", my_text)"
   ]
  },
  {
   "cell_type": "markdown",
   "id": "ab058272",
   "metadata": {},
   "source": [
    "#### Negative look-behind\n",
    "\n",
    "* Non-capturing group\n",
    "* Get all the matches that are not preceded by a specic paern.\n",
    "* Return paern aer look-behind expression"
   ]
  },
  {
   "cell_type": "code",
   "execution_count": 60,
   "id": "58bda73e",
   "metadata": {},
   "outputs": [
    {
     "data": {
      "text/plain": [
       "['cat']"
      ]
     },
     "execution_count": 60,
     "metadata": {},
     "output_type": "execute_result"
    }
   ],
   "source": [
    "my_text = \"My white cat sat at the table. However, my brown dog was lying on the couch.\"\n",
    "re.findall(r\"(?<!brown\\s)(cat|dog)\", my_text)"
   ]
  },
  {
   "cell_type": "code",
   "execution_count": null,
   "id": "3105273e",
   "metadata": {},
   "outputs": [],
   "source": []
  }
 ],
 "metadata": {
  "kernelspec": {
   "display_name": "Python 3",
   "language": "python",
   "name": "python3"
  },
  "language_info": {
   "codemirror_mode": {
    "name": "ipython",
    "version": 3
   },
   "file_extension": ".py",
   "mimetype": "text/x-python",
   "name": "python",
   "nbconvert_exporter": "python",
   "pygments_lexer": "ipython3",
   "version": "3.8.8"
  }
 },
 "nbformat": 4,
 "nbformat_minor": 5
}
