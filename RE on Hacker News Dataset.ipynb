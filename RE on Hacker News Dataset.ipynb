{
 "cells": [
  {
   "cell_type": "markdown",
   "id": "00a35cc2",
   "metadata": {},
   "source": [
    "# Regular Expression \n",
    "* A regular expression is a special sequence of characters that helps you match or find other strings or sets of strings, using a specialized syntax held in a pattern."
   ]
  },
  {
   "cell_type": "markdown",
   "id": "2329dfa5",
   "metadata": {},
   "source": [
    "### Import necessary modules"
   ]
  },
  {
   "cell_type": "code",
   "execution_count": 1,
   "id": "7f50a241",
   "metadata": {},
   "outputs": [],
   "source": [
    "import re\n",
    "import pandas as pd"
   ]
  },
  {
   "cell_type": "markdown",
   "id": "4dedabe4",
   "metadata": {},
   "source": [
    "### Load CSV file to Pandas DataFrame"
   ]
  },
  {
   "cell_type": "code",
   "execution_count": 2,
   "id": "11201b57",
   "metadata": {},
   "outputs": [],
   "source": [
    "dataset = pd.read_csv('hacker_news.csv')"
   ]
  },
  {
   "cell_type": "code",
   "execution_count": 3,
   "id": "155e73a6",
   "metadata": {},
   "outputs": [
    {
     "data": {
      "text/html": [
       "<div>\n",
       "<style scoped>\n",
       "    .dataframe tbody tr th:only-of-type {\n",
       "        vertical-align: middle;\n",
       "    }\n",
       "\n",
       "    .dataframe tbody tr th {\n",
       "        vertical-align: top;\n",
       "    }\n",
       "\n",
       "    .dataframe thead th {\n",
       "        text-align: right;\n",
       "    }\n",
       "</style>\n",
       "<table border=\"1\" class=\"dataframe\">\n",
       "  <thead>\n",
       "    <tr style=\"text-align: right;\">\n",
       "      <th></th>\n",
       "      <th>id</th>\n",
       "      <th>title</th>\n",
       "      <th>url</th>\n",
       "      <th>num_points</th>\n",
       "      <th>num_comments</th>\n",
       "      <th>author</th>\n",
       "      <th>created_at</th>\n",
       "    </tr>\n",
       "  </thead>\n",
       "  <tbody>\n",
       "    <tr>\n",
       "      <th>0</th>\n",
       "      <td>12224879</td>\n",
       "      <td>Interactive Dynamic Video</td>\n",
       "      <td>http://www.interactivedynamicvideo.com/</td>\n",
       "      <td>386</td>\n",
       "      <td>52</td>\n",
       "      <td>ne0phyte</td>\n",
       "      <td>8/4/2016 11:52</td>\n",
       "    </tr>\n",
       "    <tr>\n",
       "      <th>1</th>\n",
       "      <td>11964716</td>\n",
       "      <td>Florida DJs May Face Felony for April Fools' W...</td>\n",
       "      <td>http://www.thewire.com/entertainment/2013/04/f...</td>\n",
       "      <td>2</td>\n",
       "      <td>1</td>\n",
       "      <td>vezycash</td>\n",
       "      <td>6/23/2016 22:20</td>\n",
       "    </tr>\n",
       "    <tr>\n",
       "      <th>2</th>\n",
       "      <td>11919867</td>\n",
       "      <td>Technology ventures: From Idea to Enterprise</td>\n",
       "      <td>https://www.amazon.com/Technology-Ventures-Ent...</td>\n",
       "      <td>3</td>\n",
       "      <td>1</td>\n",
       "      <td>hswarna</td>\n",
       "      <td>6/17/2016 0:01</td>\n",
       "    </tr>\n",
       "  </tbody>\n",
       "</table>\n",
       "</div>"
      ],
      "text/plain": [
       "         id                                              title  \\\n",
       "0  12224879                          Interactive Dynamic Video   \n",
       "1  11964716  Florida DJs May Face Felony for April Fools' W...   \n",
       "2  11919867       Technology ventures: From Idea to Enterprise   \n",
       "\n",
       "                                                 url  num_points  \\\n",
       "0            http://www.interactivedynamicvideo.com/         386   \n",
       "1  http://www.thewire.com/entertainment/2013/04/f...           2   \n",
       "2  https://www.amazon.com/Technology-Ventures-Ent...           3   \n",
       "\n",
       "   num_comments    author       created_at  \n",
       "0            52  ne0phyte   8/4/2016 11:52  \n",
       "1             1  vezycash  6/23/2016 22:20  \n",
       "2             1   hswarna   6/17/2016 0:01  "
      ]
     },
     "execution_count": 3,
     "metadata": {},
     "output_type": "execute_result"
    }
   ],
   "source": [
    "dataset.head(3)"
   ]
  },
  {
   "cell_type": "markdown",
   "id": "a8a2701e",
   "metadata": {},
   "source": [
    "### Search string with the help of slicing"
   ]
  },
  {
   "cell_type": "code",
   "execution_count": 4,
   "id": "959d7947",
   "metadata": {},
   "outputs": [
    {
     "data": {
      "text/plain": [
       "'Noman'"
      ]
     },
     "execution_count": 4,
     "metadata": {},
     "output_type": "execute_result"
    }
   ],
   "source": [
    "'I am Noman and I am a student'[5:10]"
   ]
  },
  {
   "cell_type": "markdown",
   "id": "702e27ad",
   "metadata": {},
   "source": [
    "### Search string with the help of search() Function\n",
    "* It searches the string for a match, and returns a Match object if there is a match.\n",
    "* If there is more than one match, only the first occurrence of the match will be returned.\n",
    "* Syntax: re.search(pattern, string, flags=0)\n",
    "    * pattern: It is the regular expression to be matched.\n",
    "    * string: This is the string, which would be searched to match the pattern anywhere in the string.\n",
    "    * flags: you can specify different flags using bitwise OR (|)."
   ]
  },
  {
   "cell_type": "code",
   "execution_count": 5,
   "id": "99fbbcc8",
   "metadata": {},
   "outputs": [
    {
     "data": {
      "text/plain": [
       "<re.Match object; span=(5, 10), match='Noman'>"
      ]
     },
     "execution_count": 5,
     "metadata": {},
     "output_type": "execute_result"
    }
   ],
   "source": [
    "re.search('Noman','I am Noman and I am a student')"
   ]
  },
  {
   "cell_type": "code",
   "execution_count": 6,
   "id": "d78b2a1b",
   "metadata": {},
   "outputs": [
    {
     "name": "stdout",
     "output_type": "stream",
     "text": [
      "Noman\n"
     ]
    }
   ],
   "source": [
    "if re.search('Noman','I am Noman and I am a student'):\n",
    "    print('Noman')"
   ]
  },
  {
   "attachments": {
    "image.png": {
     "image/png": "[encoded data removed]"
    }
   },
   "cell_type": "markdown",
   "id": "bf4da336",
   "metadata": {},
   "source": [
    "![image.png](attachment:image.png)"
   ]
  },
  {
   "cell_type": "markdown",
   "id": "dbe686ca",
   "metadata": {},
   "source": [
    "## Search string in 'title' column "
   ]
  },
  {
   "cell_type": "code",
   "execution_count": 7,
   "id": "f20515b7",
   "metadata": {},
   "outputs": [
    {
     "data": {
      "text/html": [
       "<div>\n",
       "<style scoped>\n",
       "    .dataframe tbody tr th:only-of-type {\n",
       "        vertical-align: middle;\n",
       "    }\n",
       "\n",
       "    .dataframe tbody tr th {\n",
       "        vertical-align: top;\n",
       "    }\n",
       "\n",
       "    .dataframe thead th {\n",
       "        text-align: right;\n",
       "    }\n",
       "</style>\n",
       "<table border=\"1\" class=\"dataframe\">\n",
       "  <thead>\n",
       "    <tr style=\"text-align: right;\">\n",
       "      <th></th>\n",
       "      <th>title</th>\n",
       "    </tr>\n",
       "  </thead>\n",
       "  <tbody>\n",
       "    <tr>\n",
       "      <th>0</th>\n",
       "      <td>Interactive Dynamic Video</td>\n",
       "    </tr>\n",
       "    <tr>\n",
       "      <th>1</th>\n",
       "      <td>Florida DJs May Face Felony for April Fools' W...</td>\n",
       "    </tr>\n",
       "    <tr>\n",
       "      <th>2</th>\n",
       "      <td>Technology ventures: From Idea to Enterprise</td>\n",
       "    </tr>\n",
       "    <tr>\n",
       "      <th>3</th>\n",
       "      <td>Note by Note: The Making of Steinway L1037 (2007)</td>\n",
       "    </tr>\n",
       "    <tr>\n",
       "      <th>4</th>\n",
       "      <td>Title II kills investment? Comcast and other I...</td>\n",
       "    </tr>\n",
       "  </tbody>\n",
       "</table>\n",
       "</div>"
      ],
      "text/plain": [
       "                                               title\n",
       "0                          Interactive Dynamic Video\n",
       "1  Florida DJs May Face Felony for April Fools' W...\n",
       "2       Technology ventures: From Idea to Enterprise\n",
       "3  Note by Note: The Making of Steinway L1037 (2007)\n",
       "4  Title II kills investment? Comcast and other I..."
      ]
     },
     "execution_count": 7,
     "metadata": {},
     "output_type": "execute_result"
    }
   ],
   "source": [
    "dataset[['title']].head()"
   ]
  },
  {
   "cell_type": "code",
   "execution_count": 8,
   "id": "24db9f7f",
   "metadata": {},
   "outputs": [
    {
     "name": "stdout",
     "output_type": "stream",
     "text": [
      "From Python to Lua: Why We Switched\n",
      "Ubuntu 16.04 LTS to Ship Without Python 2\n",
      "Create a GUI Application Using Qt and Python in Minutes\n",
      "How I Solved GCHQ's Xmas Card with Python and Pycosat. (Explanation and Source)\n",
      "Unikernel Power Comes to Java, Node.js, Go, and Python Apps\n",
      "Developing a computational pipeline using the asyncio module in Python 3\n",
      "Show HN: Minimal, modern embedded V8 for Python\n",
      "Python integration for the Duktape Javascript interpreter\n",
      "Python 3 on Google App Engine flexible environment now in beta\n",
      "IronPython 3 (python for .net) development restarted\n",
      "Cysignals: signal handling (SIGINT, SIGSEGV, ) for calling C from Python\n",
      "Ask HN: Would you be interested in an embeddable, lightweight subset of Python?\n",
      "A Hello World Server in Python\n",
      "Microsoft shipped Python code in 1996\n",
      "Moore Foundation provides grant for Contiuum's Python Numba and Dask Compilers\n",
      "Integrate Python and .NET\n",
      "Face Swap (C++ / Python): Meet Ted Trump, Donald Clinton and Hillary Cruz\n",
      "ImportPython\n",
      "Show HN: Fabulous: Print images in terminal with Python\n",
      "Python 3.5 Async IO, Matmul and Unpack Features for PyPy: Only Bug Fixes Left\n",
      "Scipy Lecture Notes  Learn numerics, science, and data with Python\n",
      "PeachPy: Assembly Code Generation in High-Level Python\n",
      "500 Lines or Less  A Python Interpreter Written in Python\n",
      "Peak detection on signals in Python\n",
      "PLY (Python Lex-Yacc)  To Write a Parser in Python\n",
      "Visualizing relationships between Python packages\n",
      "Debugging of CPython processes with gdb\n",
      "Marshmallow: Simplified object serialization for Python\n",
      "Pycraft: Minecraft engine in Python\n",
      "Using Google's Python Client Library to Authorise Your Desktop App with OAuth2\n",
      "Exhaustive list of All Python Books (Updated)\n",
      "PyThalesians: Python Open Source Financial Library\n",
      "Show HN: Python Crash Course\n",
      "Python wats\n",
      "Free 2 Player Game [Python][Angular]\n",
      "Python 3.6 proposal, PEP 525: Asynchronous Generators\n",
      "Hubness-aware kNN in Python\n",
      "Typeshed: static types for the Python standard library\n",
      "Show HN: An experimental Python to C#/Go/Ruby/JS transpiler\n",
      "Python 3  Function Overloading with singledispatch\n",
      "Welcome to the Python Engineering blog\n",
      "Learn data science in python by taking online course\n",
      "How async/await works in Python 3.5\n",
      "Ubuntu Drops Python 2.7 from the Default Install in 16.04\n",
      "An OpenCV-based document scanner in Python\n",
      "AWS Lambda Supports Python, Versioning, Scheduled Jobs, and 5 Minute Functions\n",
      "Python 3.5 and Multitasking\n",
      "Show HN: Graphene  GraphQL framework for Python\n",
      "Show HN: Dplython, dplyr data manipulation for python\n",
      "Show HN: Automatically import or install modules when they're needed in IPython\n",
      "Polar watches/sportbands Python API\n",
      "Thoughts on the future of Python and graphical interfaces\n",
      "Authorization for humans (Python Package)\n",
      "Writing custom type systems for Python in Prolog\n",
      "Introducing TrumpScript  Make Python Great Again\n",
      "A fast PostgreSQL client library for Python: 3x faster than psycopg2\n",
      "See Python, See Python Go, Go Python Go\n",
      "Python 3 support in scientific Python projects\n",
      "Why I'm not leaving Python for Go (2012)\n",
      "Kickstarter for funding Micropython port to ESP8266\n",
      "Show HN: I created a Python framework for fast Slack bot development\n",
      "Python 3 comes to Scrapy\n",
      "Show HN: Space Shooter  Retro Game Recreated Using Python\n",
      "Python Data Science Handbook Supplemental Materials\n",
      "Python 3 in 2016\n",
      "Python: Generators, Coroutines, Native Coroutines and Async/Await\n",
      "Show HN: Learn the Amazon Echo with Python\n",
      "Using attrs for everything in Python\n",
      "How to build and deploy a simple Facebook Messenger bot with Python and Flask\n",
      "Go bridges to JavaScript and Python\n",
      "Preview the Python Serverless Microframework for AWS\n",
      "Keras 1.0  Python deep learning framework\n",
      "PLE: Reinforcement Learning Environment in Python\n",
      "Show HN: How to add jitter to a plot using Python's matplotlib and seaborn\n",
      "PyBridge - Reuse your Python code in native Android applications\n",
      "Python 3.6 dict becomes compact and keywords become ordered\n",
      "Memspector: Inspect memory usage of Python functions\n",
      "Installing TensorFlow with Python 3 on EC2 GPU Instances\n",
      "Proving that Javas and Pythons sorting algorithm is broken\n",
      "MicroPython 1.5 (small Python implementation for IoT, etc.)\n",
      "Show HN: TeachCraft  Learning Python Through Minecraft\n",
      "Show HN: A super simple webcrawler framework written in Python\n",
      "Ask HN: A statically typed alternative to Python with batteries included\n",
      "Book: Deep Learning with Python\n",
      "Angular 2 coming to Java, Python and PHP\n",
      "Legofy  Python program to make an image to look as if it was created with Legos\n",
      "Using Native Python Libraries in Lambda\n",
      "Python 8 will be the next major Python version\n",
      "Interactive Interpreter Tab Completion in Python\n",
      "Python on Pebble\n",
      "Changing the Culture of Python at Facebook [video]\n",
      "Ask HN: Fun and interesting Python things to do or learn?\n",
      "Ask HN: How do you provide your Python dependencies in production in 2016?\n",
      "Show HN: Python 3 pyGtk graphical curve and surface fitter\n",
      "Show HN: Python program to clean up handwritten notes\n",
      "Document Clustering with Python\n",
      "Show HN: Affirm  Improved error messages for Python assert statements\n",
      "A native Python IDE built for data science\n",
      "Show HN: Pycraft  learn Python with Minecraft\n",
      "'New' Python modules of 2015\n",
      "Recreational Maths in Python\n",
      "DQN for Beginners in 200 lines of python code to play Flappy Bird with Keras\n",
      "Building Powerful Frameworks in Python\n",
      "Show HN: Venv2docker  create a docker image from a python virtualenv\n",
      "Show HN: First Release of Transcrypt Python3.5 to JavaScript Compiler\n",
      "C Is Manly, Python Is for N00bs:How False Stereotypes Turn into Technical Truths\n",
      "Python implementation of statistical Dependency parsing using SVM by @rj_here\n",
      "Python Decorators in 12 Steps (2012)\n",
      "Python 3.5.0\n",
      "EasyMake  one python file instead tons of Makefile locs\n",
      "Pineapple  A standalone front end to IPython for Mac\n",
      "A tool to search for Python code using jQuery-like selectors\n",
      "Show HN: Automated algorithm translation for Python, C++, C#, JS\n",
      "Meet Connexion: Zalando's Open-Source REST Framework for Python\n",
      "Visual profiler for Python\n",
      "Show HN: Update your requirements.txt file with Pur in Python\n",
      "Left-pad for Python (how could we have lived all this time without it?)\n",
      "CPython internals: Codewalk through the Python interpreter source code (2014)\n",
      "Python, Machine Learning, and Language Wars\n",
      "Code that will break in Python 4\n",
      "Python-like programming language interpreter written in Python\n",
      "Introducing Yosai: A Security Framework for Python Applications\n",
      "Py-Videocore: Python Library for GPGPU on Raspberry Pi\n",
      "let in python (2014)\n",
      "MicroPython, a few years on\n",
      "New string formatting in Python\n",
      "Ptpython  better than ipython or bpython?\n",
      "Measure the Real Size of Any Python Object\n",
      "Ask HN: OO book for old Python hacker?\n",
      "C++ Has Become More Pythonic (2014)\n",
      "Jarvis: Personal Assistant in Python\n",
      "Python Internals: PyObject\n",
      "An SMS Center with Python, Kannel and a GSM Modem\n",
      "The Python Paradox\n",
      "How I defeated an anti-tamper APK with some Python and a homemade Smali emulator\n",
      "An Introduction to Mocking in Python\n",
      "Writing Pythonic code pays off\n",
      "Show HN: Insideout  does this new approach to Python packaging makes sense?\n",
      "Comparing Python Command-Line Parsing Libraries  Argparse, Docopt, and Click\n",
      "Python: Why cant we write list.len()?\n",
      "An Introduction to Scientific Python (and a Bit of the Maths Behind It)\n",
      "Feather: A Fast On-Disk Format for Data Frames for R and Python\n",
      "From Python to Go and Back Again\n",
      "How to kill yourself in Python\n",
      "Why Python 3 Exists\n",
      "Show HN: Stack overflow command line client added support to python 2\n",
      "Python one-liner to compare two files (conditions apply)\n",
      "Python vs. C/C++ in embedded systems\n",
      "The origins of the class Meta idiom in python\n",
      "Python is Better than Ruby\n",
      "Web Service Efficiency at Instagram with Python\n",
      "Crypto and SSL toolkit for python (M2Crypto)\n",
      "PythonJobs.com\n",
      "Wheres Susi? Airborne Orangutan Tracking with Python and React.js\n",
      "Transition to Python4 won't be like Python3(we've learned our lesson)\n",
      "David Beazley  Python Concurrency from the Ground Up: Live  PyCon 2015\n",
      "Ask HN: How to automate Python apps deployment?\n",
      "Moving Away from Python 2\n",
      "Python vs. Julia Observations\n",
      "Show HN: Decorating: Animated pulsed for your slow functions in Python\n"
     ]
    }
   ],
   "source": [
    "#string to search: 'Python', 'python'\n",
    "title = dataset['title']\n",
    "pattern = '[Pp]ython'\n",
    "\n",
    "for i in title:\n",
    "    if re.search(pattern, i):\n",
    "        print(i)\n",
    "#not a dynamic way"
   ]
  },
  {
   "cell_type": "markdown",
   "id": "491e7f93",
   "metadata": {},
   "source": [
    "### Get string with the help of contain() Function\n",
    "* "
   ]
  },
  {
   "cell_type": "code",
   "execution_count": 9,
   "id": "7f2d155d",
   "metadata": {},
   "outputs": [
    {
     "data": {
      "text/plain": [
       "102                  From Python to Lua: Why We Switched\n",
       "103            Ubuntu 16.04 LTS to Ship Without Python 2\n",
       "144    Create a GUI Application Using Qt and Python i...\n",
       "196    How I Solved GCHQ's Xmas Card with Python and ...\n",
       "436    Unikernel Power Comes to Java, Node.js, Go, an...\n",
       "Name: title, dtype: object"
      ]
     },
     "execution_count": 9,
     "metadata": {},
     "output_type": "execute_result"
    }
   ],
   "source": [
    "#string that contains: 'Python', 'python'\n",
    "title = dataset['title']\n",
    "pattern = '[Pp]ython'\n",
    "title[title.str.contains(pattern)].head()"
   ]
  },
  {
   "cell_type": "code",
   "execution_count": 10,
   "id": "909ba9bd",
   "metadata": {},
   "outputs": [
    {
     "data": {
      "text/plain": [
       "3     Note by Note: The Making of Steinway L1037 (2007)\n",
       "34                     The reverse job applicant (2010)\n",
       "50      Ask HN: Which framework for a CRUD app in 2016?\n",
       "59         2015 in review  1 year after I quit blogging\n",
       "80    Apple Watch Scooped Up Over Half the Smartwatc...\n",
       "Name: title, dtype: object"
      ]
     },
     "execution_count": 10,
     "metadata": {},
     "output_type": "execute_result"
    }
   ],
   "source": [
    "#string that contains: '1000' to '2999'\n",
    "pattern = '[1-2][0-9][0-9][0-9]'\n",
    "title[title.str.contains(pattern)].head()"
   ]
  },
  {
   "cell_type": "markdown",
   "id": "48ec9a93",
   "metadata": {},
   "source": [
    "### Numeric Quantifier\n",
    "* a{3} -> The character `a` three times\n",
    "* a{3,5} ->The character `a` three, four or five times\n",
    "* a{,3} ->The character `a` zero, one, two or three times\n",
    "* a{8,} ->The character `a` eight or more times"
   ]
  },
  {
   "cell_type": "code",
   "execution_count": 11,
   "id": "29370bc2",
   "metadata": {},
   "outputs": [
    {
     "data": {
      "text/plain": [
       "3     Note by Note: The Making of Steinway L1037 (2007)\n",
       "34                     The reverse job applicant (2010)\n",
       "50      Ask HN: Which framework for a CRUD app in 2016?\n",
       "59         2015 in review  1 year after I quit blogging\n",
       "80    Apple Watch Scooped Up Over Half the Smartwatc...\n",
       "Name: title, dtype: object"
      ]
     },
     "execution_count": 11,
     "metadata": {},
     "output_type": "execute_result"
    }
   ],
   "source": [
    "#string that contains '1000' to '2999' using quantifier \n",
    "pattern = '[1-2][0-9]{3}'\n",
    "title[title.str.contains(pattern)].head()"
   ]
  },
  {
   "cell_type": "markdown",
   "id": "c7dd990b",
   "metadata": {},
   "source": [
    "### Single Characters Quantifier\n",
    "* a* -> equivalent to a{0,} zero or more\n",
    "* a+ -> equivalent to a{1,} one or more\n",
    "* a? -> equivalent to a{0,1} zero or one"
   ]
  },
  {
   "cell_type": "code",
   "execution_count": 12,
   "id": "8f487dcb",
   "metadata": {},
   "outputs": [
    {
     "data": {
      "text/plain": [
       "119     Show HN: Send an email from your shell to your...\n",
       "313         Disposable emails for safe spam free shopping\n",
       "1361    Ask HN: Doing cold emails? helps us prove this...\n",
       "1750    Protect yourself from spam, bots and phishing ...\n",
       "2421                   Ashley Madison hack treating email\n",
       "Name: title, dtype: object"
      ]
     },
     "execution_count": 12,
     "metadata": {},
     "output_type": "execute_result"
    }
   ],
   "source": [
    "#using quantifier 'email', 'e-mail' using single character quantifier\n",
    "pattern = 'e-?mail'\n",
    "title[title.str.contains(pattern)].head()"
   ]
  },
  {
   "cell_type": "code",
   "execution_count": 13,
   "id": "ee2bfee7",
   "metadata": {},
   "outputs": [
    {
     "data": {
      "text/plain": [
       "119      Show HN: Send an email from your shell to your...\n",
       "161      Computer Specialist Who Deleted Clinton Emails...\n",
       "174                                        Email Apps Suck\n",
       "261      Emails Show Unqualified Clinton Foundation Don...\n",
       "313          Disposable emails for safe spam free shopping\n",
       "                               ...                        \n",
       "18847    Show HN: Crisp iOS keyboard for email and text...\n",
       "19303    Ask HN: Why big email providers don't sign the...\n",
       "19395    I used HTML Email when applying for jobs, here...\n",
       "19446    Tell HN: Secure email provider Riseup will run...\n",
       "19905    Gmail Will Soon Warn Users When Emails Arrive ...\n",
       "Name: title, Length: 136, dtype: object"
      ]
     },
     "execution_count": 13,
     "metadata": {},
     "output_type": "execute_result"
    }
   ],
   "source": [
    "#string that contains: email, Email, EMAIL, EmAiL or EMail\n",
    "pattern = r'[Ee][Mm][Aa][Ii][Ll]'\n",
    "dataset['title'][dataset['title'].str.contains(pattern)]"
   ]
  },
  {
   "cell_type": "code",
   "execution_count": 14,
   "id": "315c50aa",
   "metadata": {},
   "outputs": [
    {
     "data": {
      "text/plain": [
       "60"
      ]
     },
     "execution_count": 14,
     "metadata": {},
     "output_type": "execute_result"
    }
   ],
   "source": [
    "#count strings that contains: mysql, postgresql, cloudSQL \n",
    "pattern = '\\w+sql'\n",
    "dataset['title'].str.contains(pattern, flags= re.I).sum()"
   ]
  },
  {
   "cell_type": "markdown",
   "id": "f64a2a80",
   "metadata": {},
   "source": [
    "### Extract string with the help of extract() Function\n",
    "* extract() function is used to extract capture groups in the regular expression pattern as columns in a DataFrame. \n",
    "* For each subject string in the Series, extract groups from the first match of regular expression pattern."
   ]
  },
  {
   "cell_type": "code",
   "execution_count": 15,
   "id": "4738fb70",
   "metadata": {},
   "outputs": [
    {
     "data": {
      "text/plain": [
       "email     81\n",
       "e-mail     5\n",
       "dtype: int64"
      ]
     },
     "execution_count": 15,
     "metadata": {},
     "output_type": "execute_result"
    }
   ],
   "source": [
    "##extract and count the strings email, e-mail    \n",
    "pattern = '(e-?mail)'\n",
    "title.str.extract(pattern).value_counts()"
   ]
  },
  {
   "cell_type": "code",
   "execution_count": 16,
   "id": "9682bfe0",
   "metadata": {},
   "outputs": [
    {
     "data": {
      "text/plain": [
       "mail    86\n",
       "dtype: int64"
      ]
     },
     "execution_count": 16,
     "metadata": {},
     "output_type": "execute_result"
    }
   ],
   "source": [
    "##extract and count the strings mail\n",
    "pattern = 'e-?(mail)'\n",
    "dataset['title'].str.extract(pattern).value_counts()"
   ]
  },
  {
   "cell_type": "markdown",
   "id": "f8bd0864",
   "metadata": {},
   "source": [
    "### Character classes\n",
    "* `set` ->[fud] either f,u or d\n",
    "* `range` -> [a-e] any of the charachter a,b,c,d or e\n",
    "* `range` -> [0-3] any of the charachter 0,1,2 or 3\n",
    "* `range` -> [A-Z] any uppercase letter\n",
    "* `set+range` -> [A-Za-z] any uppercase or lower case letter[Aa-Zz]\n",
    "* `Digit` -> **`\\d`** any digit character(equivalent to [0-9])\n",
    "* `Word` -> **`\\w`** any digit, uppercase, lowercase or underscore character (equivalent to [A-Za-z0-9_]). Does not include any special character \n",
    "* `Whitepace` -> **`\\s`** any space, tab or linebreak character\n",
    "* `Dot` -> **`.`**  any character or special character except newline"
   ]
  },
  {
   "cell_type": "code",
   "execution_count": 17,
   "id": "49aec5d8",
   "metadata": {},
   "outputs": [
    {
     "data": {
      "text/plain": [
       "[pdf]                276\n",
       "[video]              111\n",
       "[2015]                 3\n",
       "[audio]                3\n",
       "[beta]                 2\n",
       "                    ... \n",
       "[Map]                  1\n",
       "[Live]                 1\n",
       "[Ksummit-Discuss]      1\n",
       "[JavaScript]           1\n",
       "[viz]                  1\n",
       "Length: 79, dtype: int64"
      ]
     },
     "execution_count": 17,
     "metadata": {},
     "output_type": "execute_result"
    }
   ],
   "source": [
    "#extract and count string using character class : [string] i.e any character within square brackets\n",
    "pattern = '(\\[.+\\])'\n",
    "title.str.extract(pattern).value_counts()"
   ]
  },
  {
   "cell_type": "markdown",
   "id": "20443148",
   "metadata": {},
   "source": [
    "### sub() function \n",
    "* It belongs to the Regular Expressions module in Python. \n",
    "* It returns a string where all matching occurrences of the specified pattern are replaced by the replace string."
   ]
  },
  {
   "cell_type": "code",
   "execution_count": 18,
   "id": "a6784075",
   "metadata": {},
   "outputs": [
    {
     "data": {
      "text/plain": [
       "'Ali_Khan'"
      ]
     },
     "execution_count": 18,
     "metadata": {},
     "output_type": "execute_result"
    }
   ],
   "source": [
    "name = 'Ali Khan'\n",
    "re.sub('\\s+','_',name)"
   ]
  },
  {
   "cell_type": "markdown",
   "id": "1447c75d",
   "metadata": {},
   "source": [
    "### Negative Class\n",
    "* `Negative Set` -> [^fud] any charachter except f,u or d\n",
    "* `Negative Set` -> [^1-3Z\\s] any charachter except 1,2,3,Z or Whitespace character\n",
    "* `Negative Digit` -> \\D any charachter except Digit character\n",
    "* `Negative Word` -> \\W any charachter except word character\n",
    "* `Negative whitespace` -> \\S any charachter except space character"
   ]
  },
  {
   "cell_type": "markdown",
   "id": "1984c0bf",
   "metadata": {},
   "source": [
    "* ^ -> it will check pattern at the start\n",
    "* $ -> it will check pattern at the end"
   ]
  },
  {
   "cell_type": "code",
   "execution_count": 19,
   "id": "ac7bdbf4",
   "metadata": {},
   "outputs": [
    {
     "data": {
      "text/plain": [
       "<re.Match object; span=(0, 7), match='1000000'>"
      ]
     },
     "execution_count": 19,
     "metadata": {},
     "output_type": "execute_result"
    }
   ],
   "source": [
    "# 1000.0, 5000.00, 1000, 6000\n",
    "pattern = '\\d+0{3}\\.?0*$'\n",
    "re.search(pattern,'1000000')"
   ]
  },
  {
   "cell_type": "code",
   "execution_count": 20,
   "id": "ed37161d",
   "metadata": {},
   "outputs": [
    {
     "data": {
      "text/plain": [
       "365                       The new C standards are worth it\n",
       "521           Fuchsia: Micro kernel written in C by Google\n",
       "1307             Show HN: Yupp, yet another C preprocessor\n",
       "1326                      The C standard formalized in Coq\n",
       "1365                           GNU C Library 2.23 released\n",
       "                               ...                        \n",
       "18480                                             Fixing C\n",
       "18549            Show HN: An awesome C library for Windows\n",
       "18649                 Python vs. C/C++ in embedded systems\n",
       "19151                      Ask HN: How to learn C in 2016?\n",
       "19933    Lightweight C library to parse NMEA 0183 sente...\n",
       "Name: title, Length: 65, dtype: object"
      ]
     },
     "execution_count": 20,
     "metadata": {},
     "output_type": "execute_result"
    }
   ],
   "source": [
    "#i = 'C Language'\n",
    "pattern = r'(?<!Series)\\s\\b[Cc]\\b(?![\\.\\+#])'\n",
    "dataset['title'][dataset['title'].str.contains(pattern, flags= re.I)]"
   ]
  },
  {
   "cell_type": "markdown",
   "id": "d31a3384",
   "metadata": {},
   "source": [
    "### Regular Expression for duplicate strings"
   ]
  },
  {
   "cell_type": "code",
   "execution_count": 21,
   "id": "aa7955c6",
   "metadata": {},
   "outputs": [
    {
     "data": {
      "text/plain": [
       "<re.Match object; span=(0, 7), match='Tuk Tuk'>"
      ]
     },
     "execution_count": 21,
     "metadata": {},
     "output_type": "execute_result"
    }
   ],
   "source": [
    "# 'Hammad Hammad'\n",
    "# 'Tuk Tuk'\n",
    "pattern = r'\\b(\\w+)\\s\\1\\b'\n",
    "re.search(pattern,'Tuk Tuk')"
   ]
  },
  {
   "cell_type": "code",
   "execution_count": 22,
   "id": "ddac4931",
   "metadata": {},
   "outputs": [
    {
     "data": {
      "text/plain": [
       "<re.Match object; span=(0, 21), match='problem ok ok problem'>"
      ]
     },
     "execution_count": 22,
     "metadata": {},
     "output_type": "execute_result"
    }
   ],
   "source": [
    "i = 'problem ok ok problem'\n",
    "pattern = r'\\b(\\w+)\\s(\\w+)\\s\\2\\s\\1\\b'\n",
    "re.search(pattern,i)"
   ]
  },
  {
   "cell_type": "code",
   "execution_count": 23,
   "id": "889629d2",
   "metadata": {},
   "outputs": [
    {
     "data": {
      "text/plain": [
       "email     75\n",
       "Email     57\n",
       "e Mail     5\n",
       "e-mail     5\n",
       "e mail     4\n",
       "E-mail     2\n",
       "E-Mail     1\n",
       "EMAIL      1\n",
       "eMail      1\n",
       "dtype: int64"
      ]
     },
     "execution_count": 23,
     "metadata": {},
     "output_type": "execute_result"
    }
   ],
   "source": [
    "#e mail, e-mail, email\n",
    "\n",
    "pattern = '(e[\\s-]?mail)'\n",
    "dataset['title'].str.extract(pattern, flags= re.I).value_counts()\n",
    "#dataset['title'][dataset['title'].str.contains(pattern)]"
   ]
  },
  {
   "cell_type": "code",
   "execution_count": 24,
   "id": "5bc49ccf",
   "metadata": {},
   "outputs": [
    {
     "name": "stderr",
     "output_type": "stream",
     "text": [
      "<ipython-input-24-88662bb339ce>:1: FutureWarning: The default value of regex will change from True to False in a future version.\n",
      "  dataset['title'] = dataset['title'].str.replace('(e[\\s-]?mail)', 'email', flags= re.I)\n"
     ]
    }
   ],
   "source": [
    "dataset['title'] = dataset['title'].str.replace('(e[\\s-]?mail)', 'email', flags= re.I)"
   ]
  },
  {
   "cell_type": "code",
   "execution_count": 25,
   "id": "5b20050b",
   "metadata": {},
   "outputs": [
    {
     "data": {
      "text/plain": [
       "email    151\n",
       "dtype: int64"
      ]
     },
     "execution_count": 25,
     "metadata": {},
     "output_type": "execute_result"
    }
   ],
   "source": [
    "dataset['title'].str.extract('(e[\\s-]?mail)', flags= re.I).value_counts()"
   ]
  },
  {
   "cell_type": "code",
   "execution_count": 26,
   "id": "4adda6ad",
   "metadata": {},
   "outputs": [
    {
     "data": {
      "text/plain": [
       "0                  http://www.interactivedynamicvideo.com/\n",
       "1        http://www.thewire.com/entertainment/2013/04/f...\n",
       "2        https://www.amazon.com/Technology-Ventures-Ent...\n",
       "3        http://www.nytimes.com/2007/11/07/movies/07ste...\n",
       "4        http://arstechnica.com/business/2015/10/comcas...\n",
       "                               ...                        \n",
       "20094    https://puri.sm/philosophy/how-purism-avoids-i...\n",
       "20095    https://medium.com/@zreitano/the-yc-applicatio...\n",
       "20096    http://blog.darknedgy.net/technology/2016/01/0...\n",
       "20097    https://medium.com/@benjiwheeler/how-product-h...\n",
       "20098                https://github.com/jmcarp/robobrowser\n",
       "Name: url, Length: 20099, dtype: object"
      ]
     },
     "execution_count": 26,
     "metadata": {},
     "output_type": "execute_result"
    }
   ],
   "source": [
    "dataset['url']"
   ]
  },
  {
   "cell_type": "code",
   "execution_count": 27,
   "id": "3534f662",
   "metadata": {},
   "outputs": [
    {
     "data": {
      "text/html": [
       "<div>\n",
       "<style scoped>\n",
       "    .dataframe tbody tr th:only-of-type {\n",
       "        vertical-align: middle;\n",
       "    }\n",
       "\n",
       "    .dataframe tbody tr th {\n",
       "        vertical-align: top;\n",
       "    }\n",
       "\n",
       "    .dataframe thead th {\n",
       "        text-align: right;\n",
       "    }\n",
       "</style>\n",
       "<table border=\"1\" class=\"dataframe\">\n",
       "  <thead>\n",
       "    <tr style=\"text-align: right;\">\n",
       "      <th></th>\n",
       "      <th>Protocol</th>\n",
       "      <th>Domain</th>\n",
       "      <th>2</th>\n",
       "    </tr>\n",
       "  </thead>\n",
       "  <tbody>\n",
       "    <tr>\n",
       "      <th>0</th>\n",
       "      <td>http</td>\n",
       "      <td>www.interactivedynamicvideo.com</td>\n",
       "      <td></td>\n",
       "    </tr>\n",
       "    <tr>\n",
       "      <th>1</th>\n",
       "      <td>http</td>\n",
       "      <td>www.thewire.com</td>\n",
       "      <td>entertainment</td>\n",
       "    </tr>\n",
       "    <tr>\n",
       "      <th>2</th>\n",
       "      <td>https</td>\n",
       "      <td>www.amazon.com</td>\n",
       "      <td>Technology</td>\n",
       "    </tr>\n",
       "    <tr>\n",
       "      <th>3</th>\n",
       "      <td>http</td>\n",
       "      <td>www.nytimes.com</td>\n",
       "      <td>2007</td>\n",
       "    </tr>\n",
       "    <tr>\n",
       "      <th>4</th>\n",
       "      <td>http</td>\n",
       "      <td>arstechnica.com</td>\n",
       "      <td>business</td>\n",
       "    </tr>\n",
       "    <tr>\n",
       "      <th>...</th>\n",
       "      <td>...</td>\n",
       "      <td>...</td>\n",
       "      <td>...</td>\n",
       "    </tr>\n",
       "    <tr>\n",
       "      <th>20094</th>\n",
       "      <td>https</td>\n",
       "      <td>puri.sm</td>\n",
       "      <td>philosophy</td>\n",
       "    </tr>\n",
       "    <tr>\n",
       "      <th>20095</th>\n",
       "      <td>https</td>\n",
       "      <td>medium.com</td>\n",
       "      <td></td>\n",
       "    </tr>\n",
       "    <tr>\n",
       "      <th>20096</th>\n",
       "      <td>http</td>\n",
       "      <td>blog.darknedgy.net</td>\n",
       "      <td>technology</td>\n",
       "    </tr>\n",
       "    <tr>\n",
       "      <th>20097</th>\n",
       "      <td>https</td>\n",
       "      <td>medium.com</td>\n",
       "      <td></td>\n",
       "    </tr>\n",
       "    <tr>\n",
       "      <th>20098</th>\n",
       "      <td>https</td>\n",
       "      <td>github.com</td>\n",
       "      <td>jmcarp</td>\n",
       "    </tr>\n",
       "  </tbody>\n",
       "</table>\n",
       "<p>20099 rows × 3 columns</p>\n",
       "</div>"
      ],
      "text/plain": [
       "      Protocol                           Domain              2\n",
       "0         http  www.interactivedynamicvideo.com               \n",
       "1         http                  www.thewire.com  entertainment\n",
       "2        https                   www.amazon.com     Technology\n",
       "3         http                  www.nytimes.com           2007\n",
       "4         http                  arstechnica.com       business\n",
       "...        ...                              ...            ...\n",
       "20094    https                          puri.sm     philosophy\n",
       "20095    https                       medium.com               \n",
       "20096     http               blog.darknedgy.net     technology\n",
       "20097    https                       medium.com               \n",
       "20098    https                       github.com         jmcarp\n",
       "\n",
       "[20099 rows x 3 columns]"
      ]
     },
     "execution_count": 27,
     "metadata": {},
     "output_type": "execute_result"
    }
   ],
   "source": [
    "pattern = r'(?P<Protocol>\\w+)://(?P<Domain>[\\w.]+)/?([\\w.]*)'\n",
    "dataset['url'].str.extract(pattern, flags=re.I)"
   ]
  }
 ],
 "metadata": {
  "kernelspec": {
   "display_name": "Python 3",
   "language": "python",
   "name": "python3"
  },
  "language_info": {
   "codemirror_mode": {
    "name": "ipython",
    "version": 3
   },
   "file_extension": ".py",
   "mimetype": "text/x-python",
   "name": "python",
   "nbconvert_exporter": "python",
   "pygments_lexer": "ipython3",
   "version": "3.8.8"
  }
 },
 "nbformat": 4,
 "nbformat_minor": 5
}
